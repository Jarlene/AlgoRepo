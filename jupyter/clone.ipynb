{
 "cells": [
  {
   "cell_type": "code",
   "execution_count": 24,
   "metadata": {},
   "outputs": [],
   "source": [
    "import git\n",
    "import os "
   ]
  },
  {
   "cell_type": "code",
   "execution_count": 8,
   "metadata": {},
   "outputs": [],
   "source": [
    "DIR='/home/jarlene/Code/Projects'"
   ]
  },
  {
   "cell_type": "code",
   "execution_count": 44,
   "metadata": {},
   "outputs": [],
   "source": [
    "g = os.walk(DIR)  "
   ]
  },
  {
   "cell_type": "code",
   "execution_count": 45,
   "metadata": {},
   "outputs": [
    {
     "name": "stdout",
     "output_type": "stream",
     "text": [
      "git clone  \thttps://github.com/microsoft/tutel.git  tutel\n",
      "git clone  \thttps://github.com/microsoft/UniSpeech.git  UniSpeech\n",
      "git clone  \thttps://github.com/microsoft/unilm.git  unilm\n",
      "git clone  \thttps://github.com/microsoft/DeepSpeed.git  DeepSpeed\n",
      "git clone  \thttps://github.com/albarji/mixture-of-diffusers.git  MixDiff\n",
      "git clone  \thttps://github.com/lucidrains/CoCa-pytorch.git  CoCa\n",
      "git clone  \thttps://github.com/lucidrains/enformer-pytorch.git  Enformer\n",
      "git clone  \thttps://github.com/THUDM/GLM-130B.git  GLM\n"
     ]
    },
    {
     "ename": "GitCommandError",
     "evalue": "Cmd('git') failed due to: exit code(128)\n  cmdline: git remote -v\n  stderr: 'fatal: not a git repository (or any of the parent directories): .git'",
     "output_type": "error",
     "traceback": [
      "\u001b[0;31m---------------------------------------------------------------------------\u001b[0m",
      "\u001b[0;31mGitCommandError\u001b[0m                           Traceback (most recent call last)",
      "Cell \u001b[0;32mIn[45], line 6\u001b[0m\n\u001b[1;32m      4\u001b[0m repo \u001b[39m=\u001b[39m  os\u001b[39m.\u001b[39mpath\u001b[39m.\u001b[39mjoin(path, d)\n\u001b[1;32m      5\u001b[0m g \u001b[39m=\u001b[39m git\u001b[39m.\u001b[39mcmd\u001b[39m.\u001b[39mGit(repo)\n\u001b[0;32m----> 6\u001b[0m src \u001b[39m=\u001b[39m g\u001b[39m.\u001b[39;49mexecute([\u001b[39m\"\u001b[39;49m\u001b[39mgit\u001b[39;49m\u001b[39m\"\u001b[39;49m, \u001b[39m\"\u001b[39;49m\u001b[39mremote\u001b[39;49m\u001b[39m\"\u001b[39;49m, \u001b[39m\"\u001b[39;49m\u001b[39m-v\u001b[39;49m\u001b[39m\"\u001b[39;49m])\n\u001b[1;32m      7\u001b[0m \u001b[39mprint\u001b[39m(\u001b[39m\"\u001b[39m\u001b[39mgit clone \u001b[39m\u001b[39m\"\u001b[39m, src\u001b[39m.\u001b[39mreplace(\u001b[39m'\u001b[39m\u001b[39morigin\u001b[39m\u001b[39m'\u001b[39m,\u001b[39m'\u001b[39m\u001b[39m'\u001b[39m)\u001b[39m.\u001b[39msplit(\u001b[39m'\u001b[39m\u001b[39m(fetch)\u001b[39m\u001b[39m'\u001b[39m)[\u001b[39m0\u001b[39m], d)\n",
      "File \u001b[0;32m~/.local/lib/python3.8/site-packages/git/cmd.py:1109\u001b[0m, in \u001b[0;36mGit.execute\u001b[0;34m(self, command, istream, with_extended_output, with_exceptions, as_process, output_stream, stdout_as_string, kill_after_timeout, with_stdout, universal_newlines, shell, env, max_chunk_size, strip_newline_in_stdout, **subprocess_kwargs)\u001b[0m\n\u001b[1;32m   1106\u001b[0m \u001b[39m# END handle debug printing\u001b[39;00m\n\u001b[1;32m   1108\u001b[0m \u001b[39mif\u001b[39;00m with_exceptions \u001b[39mand\u001b[39;00m status \u001b[39m!=\u001b[39m \u001b[39m0\u001b[39m:\n\u001b[0;32m-> 1109\u001b[0m     \u001b[39mraise\u001b[39;00m GitCommandError(redacted_command, status, stderr_value, stdout_value)\n\u001b[1;32m   1111\u001b[0m \u001b[39mif\u001b[39;00m \u001b[39misinstance\u001b[39m(stdout_value, \u001b[39mbytes\u001b[39m) \u001b[39mand\u001b[39;00m stdout_as_string:  \u001b[39m# could also be output_stream\u001b[39;00m\n\u001b[1;32m   1112\u001b[0m     stdout_value \u001b[39m=\u001b[39m safe_decode(stdout_value)\n",
      "\u001b[0;31mGitCommandError\u001b[0m: Cmd('git') failed due to: exit code(128)\n  cmdline: git remote -v\n  stderr: 'fatal: not a git repository (or any of the parent directories): .git'"
     ]
    }
   ],
   "source": [
    "for path,dir_list,file_list in g:  \n",
    "    if path == DIR:\n",
    "        for d in dir_list:\n",
    "            repo =  os.path.join(path, d)\n",
    "            g = git.cmd.Git(repo)\n",
    "            src = g.execute([\"git\", \"remote\", \"-v\"])\n",
    "            print(\"git clone\", src.replace('origin','').split('(fetch)')[0], d)\n",
    "            "
   ]
  }
 ],
 "metadata": {
  "kernelspec": {
   "display_name": "Python 3",
   "language": "python",
   "name": "python3"
  },
  "language_info": {
   "codemirror_mode": {
    "name": "ipython",
    "version": 3
   },
   "file_extension": ".py",
   "mimetype": "text/x-python",
   "name": "python",
   "nbconvert_exporter": "python",
   "pygments_lexer": "ipython3",
   "version": "3.8.10"
  },
  "orig_nbformat": 4
 },
 "nbformat": 4,
 "nbformat_minor": 2
}
