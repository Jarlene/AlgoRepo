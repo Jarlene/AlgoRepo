{
 "cells": [
  {
   "cell_type": "code",
   "execution_count": 1,
   "metadata": {},
   "outputs": [],
   "source": [
    "import git\n",
    "import os "
   ]
  },
  {
   "cell_type": "code",
   "execution_count": 2,
   "metadata": {},
   "outputs": [],
   "source": [
    "DIR='/home/jarlene/Code/Projects'"
   ]
  },
  {
   "cell_type": "code",
   "execution_count": 3,
   "metadata": {},
   "outputs": [],
   "source": [
    "g = os.walk(DIR)  "
   ]
  },
  {
   "cell_type": "code",
   "execution_count": 4,
   "metadata": {},
   "outputs": [
    {
     "name": "stdout",
     "output_type": "stream",
     "text": [
      "git clone https://github.com/microsoft/tutel.git tutel\n",
      "git clone https://github.com/microsoft/UniSpeech.git UniSpeech\n",
      "git clone https://github.com/microsoft/unilm.git unilm\n",
      "git clone https://github.com/microsoft/DeepSpeed.git DeepSpeed\n",
      "git clone https://github.com/albarji/mixture-of-diffusers.git MixDiff\n",
      "git clone https://github.com/lucidrains/CoCa-pytorch.git CoCa\n",
      "git clone https://github.com/lucidrains/enformer-pytorch.git Enformer\n",
      "git clone https://github.com/THUDM/GLM-130B.git GLM\n",
      "git clone https://github.com/Jarlene/AlgoRepo.git Experiment\n",
      "git clone https://github.com/google-research/google-research.git google-research\n",
      "git clone https://github.com/Yunfan-Li/Contrastive-Clustering.git CC\n",
      "git clone https://github.com/openai/CLIP CLIP\n",
      "git clone https://github.com/dreamquark-ai/tabnet Tabnet\n",
      "git clone https://github.com/deepmind/deepmind-research.git deepmind-research\n",
      "git clone https://github.com/microsoft/recommenders.git recommenders\n",
      "git clone https://github.com/eriklindernoren/PyTorch-GAN GAN\n",
      "git clone https://github.com/adambielski/siamese-triplet Siamese\n",
      "git clone https://github.com/heejkoo/Awesome-Diffusion-Models.git diffusion\n",
      "git clone https://github.com/zhouhaoyi/Informer2020.git Informer\n",
      "git clone https://github.com/lucidrains/byol-pytorch.git BYOL\n",
      "git clone https://github.com/salesforce/LAVIS.git LAVIS\n",
      "git clone https://github.com/google-research/FLAN.git FLAN\n",
      "git clone https://github.com/salesforce/PCL.git PCL\n",
      "git clone https://github.com/pytorch/fairseq FairSeq\n",
      "git clone https://github.com/hojonathanho/diffusion diffusion-model\n",
      "git clone https://github.com/huggingface/diffusers.git diffusers\n",
      "git clone https://github.com/manujosephv/pytorch_tabular.git Tabularnet\n",
      "git clone https://github.com/princeton-nlp/SimCSE.git SimCSE\n",
      "git clone https://github.com/nebuly-ai/nebullvm.git nebullvm\n",
      "git clone https://github.com/lucidrains/DALLE2-pytorch.git Dalle2\n",
      "git clone https://github.com/chingyaoc/DCL.git DCL\n",
      "git clone https://github.com/santi-pdp/pase.git pase\n",
      "git clone https://github.com/dropreg/R-Drop.git RDrop\n",
      "git clone https://github.com/yandex-research/ddpm-segmentation.git segmentation\n",
      "git clone https://github.com/numba/llvmlite.git llvmlite\n",
      "git clone https://github.com/jefflai108/Contrastive-Predictive-Coding-PyTorch.git CPC\n",
      "git clone https://github.com/nzc/dnn_ctr.git DNNCTR\n",
      "git clone https://github.com/huggingface/datasets.git datasets\n",
      "git clone https://github.com/p-christ/Deep-Reinforcement-Learning-Algorithms-with-PyTorch.git DRL\n",
      "git clone https://github.com/huggingface/transformers transformers\n",
      "git clone https://github.com/feradauto/MoralCoT.git MoralCoT\n",
      "git clone https://github.com/xue-pai/FuxiCTR.git FuxiCTR\n",
      "git clone https://github.com/lucidrains/audiolm-pytorch.git AudioLM\n",
      "git clone https://github.com/PaulAlbert31/LabelNoiseCorrection LabelNoiseCorrection\n",
      "git clone https://github.com/hongleizhang/RSPapers.git RSPapers\n",
      "git clone https://github.com/benedekrozemberczki/pytorch_geometric_temporal.git Gete\n",
      "git clone https://github.com/lucidrains/imagen-pytorch.git Imagen\n",
      "git clone https://github.com/microsoft/MT-DNN.git MTDNN\n",
      "git clone https://github.com/lucidrains/x-transformers.git XTransformers\n",
      "git clone https://github.com/pytorch/torchrec.git torchrec\n",
      "git clone https://github.com/ridgerchu/SpikeGPT.git SpikeGPT\n",
      "git clone https://github.com/HobbitLong/CMC.git CMC\n",
      "git clone https://github.com/yumeng5/SuperGen SuperGen\n",
      "git clone https://github.com/lucidrains/PaLM-pytorch.git PaLM\n",
      "git clone https://github.com/openai/glide-text2im.git Glide\n",
      "git clone https://github.com/motefly/DeepGBM.git DeepGBM\n",
      "git clone https://github.com/CorentinJ/Real-Time-Voice-Cloning.git RTVC\n",
      "git clone https://github.com/lucidrains/musiclm-pytorch.git MusicLM\n",
      "git clone https://github.com/critter-mj/akochan.git akochan\n",
      "git clone https://github.com/lucidrains/PaLM-rlhf-pytorch.git PaLMRLHF\n",
      "git clone https://github.com/AI4Finance-Foundation/FinRL.git FinRL\n",
      "git clone https://github.com/lucidrains/parti-pytorch.git Parti\n"
     ]
    }
   ],
   "source": [
    "for path,dir_list,file_list in g:  \n",
    "    if path == DIR:\n",
    "        for d in dir_list:\n",
    "            repo =  os.path.join(path, d)\n",
    "            g = git.cmd.Git(repo)\n",
    "            # try:\n",
    "            #     g.execute([\"git\", \"pull\"])\n",
    "            # except :\n",
    "            #     print(repo)\n",
    "            src = g.execute([\"git\", \"remote\", \"-v\"])\n",
    "            ulr=src.replace('origin','').split('(fetch)')[0].strip()\n",
    "            print(\"git clone\", ulr, d)\n",
    "            "
   ]
  }
 ],
 "metadata": {
  "kernelspec": {
   "display_name": "Python 3",
   "language": "python",
   "name": "python3"
  },
  "language_info": {
   "codemirror_mode": {
    "name": "ipython",
    "version": 3
   },
   "file_extension": ".py",
   "mimetype": "text/x-python",
   "name": "python",
   "nbconvert_exporter": "python",
   "pygments_lexer": "ipython3",
   "version": "3.8.10"
  },
  "orig_nbformat": 4
 },
 "nbformat": 4,
 "nbformat_minor": 2
}
