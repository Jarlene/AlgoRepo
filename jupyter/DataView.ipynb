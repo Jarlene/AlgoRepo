{
 "cells": [
  {
   "cell_type": "code",
   "execution_count": 2,
   "metadata": {},
   "outputs": [],
   "source": [
    "import sys\n",
    "import torch\n",
    "import numpy as np"
   ]
  },
  {
   "cell_type": "code",
   "execution_count": 3,
   "metadata": {},
   "outputs": [],
   "source": [
    "sys.path.append('../')"
   ]
  },
  {
   "cell_type": "code",
   "execution_count": 4,
   "metadata": {},
   "outputs": [],
   "source": [
    "from layers.Layers import MoE"
   ]
  },
  {
   "cell_type": "code",
   "execution_count": 5,
   "metadata": {},
   "outputs": [],
   "source": [
    "a = torch.rand(10,100,40,128)"
   ]
  },
  {
   "cell_type": "code",
   "execution_count": 7,
   "metadata": {},
   "outputs": [],
   "source": [
    "model = MoE(128, 10)"
   ]
  },
  {
   "cell_type": "code",
   "execution_count": 9,
   "metadata": {},
   "outputs": [
    {
     "ename": "RuntimeError",
     "evalue": "The size of tensor a (40) must match the size of tensor b (10) at non-singleton dimension 2",
     "output_type": "error",
     "traceback": [
      "\u001b[0;31m---------------------------------------------------------------------------\u001b[0m",
      "\u001b[0;31mRuntimeError\u001b[0m                              Traceback (most recent call last)",
      "Cell \u001b[0;32mIn[9], line 1\u001b[0m\n\u001b[0;32m----> 1\u001b[0m b \u001b[39m=\u001b[39m model(a)\n",
      "File \u001b[0;32m~/anaconda3/envs/nuplan/lib/python3.9/site-packages/torch/nn/modules/module.py:1501\u001b[0m, in \u001b[0;36mModule._call_impl\u001b[0;34m(self, *args, **kwargs)\u001b[0m\n\u001b[1;32m   1496\u001b[0m \u001b[39m# If we don't have any hooks, we want to skip the rest of the logic in\u001b[39;00m\n\u001b[1;32m   1497\u001b[0m \u001b[39m# this function, and just call forward.\u001b[39;00m\n\u001b[1;32m   1498\u001b[0m \u001b[39mif\u001b[39;00m \u001b[39mnot\u001b[39;00m (\u001b[39mself\u001b[39m\u001b[39m.\u001b[39m_backward_hooks \u001b[39mor\u001b[39;00m \u001b[39mself\u001b[39m\u001b[39m.\u001b[39m_backward_pre_hooks \u001b[39mor\u001b[39;00m \u001b[39mself\u001b[39m\u001b[39m.\u001b[39m_forward_hooks \u001b[39mor\u001b[39;00m \u001b[39mself\u001b[39m\u001b[39m.\u001b[39m_forward_pre_hooks\n\u001b[1;32m   1499\u001b[0m         \u001b[39mor\u001b[39;00m _global_backward_pre_hooks \u001b[39mor\u001b[39;00m _global_backward_hooks\n\u001b[1;32m   1500\u001b[0m         \u001b[39mor\u001b[39;00m _global_forward_hooks \u001b[39mor\u001b[39;00m _global_forward_pre_hooks):\n\u001b[0;32m-> 1501\u001b[0m     \u001b[39mreturn\u001b[39;00m forward_call(\u001b[39m*\u001b[39;49margs, \u001b[39m*\u001b[39;49m\u001b[39m*\u001b[39;49mkwargs)\n\u001b[1;32m   1502\u001b[0m \u001b[39m# Do not call functions when jit is used\u001b[39;00m\n\u001b[1;32m   1503\u001b[0m full_backward_hooks, non_full_backward_hooks \u001b[39m=\u001b[39m [], []\n",
      "File \u001b[0;32m~/Code/Projects/Experiment/jupyter/../layers/Layers.py:1006\u001b[0m, in \u001b[0;36mMoE.forward\u001b[0;34m(self, x, loss_coef)\u001b[0m\n\u001b[1;32m    995\u001b[0m \u001b[39mdef\u001b[39;00m \u001b[39mforward\u001b[39m(\u001b[39mself\u001b[39m, x, loss_coef\u001b[39m=\u001b[39m\u001b[39m1e-2\u001b[39m):\n\u001b[1;32m    996\u001b[0m \u001b[39m    \u001b[39m\u001b[39m\"\"\"Args:\u001b[39;00m\n\u001b[1;32m    997\u001b[0m \u001b[39m    x: tensor shape [batch_size,...., input_size]\u001b[39;00m\n\u001b[1;32m    998\u001b[0m \u001b[39m    loss_coef: a scalar - multiplier on load-balancing losses\u001b[39;00m\n\u001b[0;32m   (...)\u001b[0m\n\u001b[1;32m   1004\u001b[0m \u001b[39m    encourages all experts to be approximately equally used across a batch.\u001b[39;00m\n\u001b[1;32m   1005\u001b[0m \u001b[39m    \"\"\"\u001b[39;00m\n\u001b[0;32m-> 1006\u001b[0m     gates, load \u001b[39m=\u001b[39m \u001b[39mself\u001b[39;49m\u001b[39m.\u001b[39;49mnoisy_top_k_gating(x, \u001b[39mself\u001b[39;49m\u001b[39m.\u001b[39;49mtraining)\n\u001b[1;32m   1007\u001b[0m     \u001b[39m# calculate importance loss\u001b[39;00m\n\u001b[1;32m   1008\u001b[0m     importance \u001b[39m=\u001b[39m gates\u001b[39m.\u001b[39msum(\u001b[39m0\u001b[39m)\n",
      "File \u001b[0;32m~/Code/Projects/Experiment/jupyter/../layers/Layers.py:989\u001b[0m, in \u001b[0;36mMoE.noisy_top_k_gating\u001b[0;34m(self, x, train, noise_epsilon)\u001b[0m\n\u001b[1;32m    986\u001b[0m gates \u001b[39m=\u001b[39m zeros\u001b[39m.\u001b[39mscatter(\u001b[39m-\u001b[39m\u001b[39m1\u001b[39m, top_k_indices, top_k_gates)\n\u001b[1;32m    988\u001b[0m \u001b[39mif\u001b[39;00m \u001b[39mself\u001b[39m\u001b[39m.\u001b[39mnoisy_gating \u001b[39mand\u001b[39;00m \u001b[39mself\u001b[39m\u001b[39m.\u001b[39mk \u001b[39m<\u001b[39m \u001b[39mself\u001b[39m\u001b[39m.\u001b[39mnum_experts \u001b[39mand\u001b[39;00m train:\n\u001b[0;32m--> 989\u001b[0m     load \u001b[39m=\u001b[39m (\u001b[39mself\u001b[39;49m\u001b[39m.\u001b[39;49m_prob_in_top_k(clean_logits,\n\u001b[1;32m    990\u001b[0m             noisy_logits, noise_stddev, top_logits))\u001b[39m.\u001b[39msum(\u001b[39m0\u001b[39m)\n\u001b[1;32m    991\u001b[0m \u001b[39melse\u001b[39;00m:\n\u001b[1;32m    992\u001b[0m     load \u001b[39m=\u001b[39m \u001b[39mself\u001b[39m\u001b[39m.\u001b[39m_gates_to_load(gates)\n",
      "File \u001b[0;32m~/Code/Projects/Experiment/jupyter/../layers/Layers.py:945\u001b[0m, in \u001b[0;36mMoE._prob_in_top_k\u001b[0;34m(self, clean_values, noisy_values, noise_stddev, noisy_top_values)\u001b[0m\n\u001b[1;32m    941\u001b[0m threshold_positions_if_in \u001b[39m=\u001b[39m torch\u001b[39m.\u001b[39marange(\n\u001b[1;32m    942\u001b[0m     batch, device\u001b[39m=\u001b[39mclean_values\u001b[39m.\u001b[39mdevice) \u001b[39m*\u001b[39m m \u001b[39m+\u001b[39m \u001b[39mself\u001b[39m\u001b[39m.\u001b[39mk\n\u001b[1;32m    943\u001b[0m threshold_if_in \u001b[39m=\u001b[39m torch\u001b[39m.\u001b[39munsqueeze(torch\u001b[39m.\u001b[39mgather(\n\u001b[1;32m    944\u001b[0m     top_values_flat, \u001b[39m0\u001b[39m, threshold_positions_if_in), \u001b[39m1\u001b[39m)\n\u001b[0;32m--> 945\u001b[0m is_in \u001b[39m=\u001b[39m torch\u001b[39m.\u001b[39;49mgt(noisy_values, threshold_if_in)\n\u001b[1;32m    946\u001b[0m threshold_positions_if_out \u001b[39m=\u001b[39m threshold_positions_if_in \u001b[39m-\u001b[39m \u001b[39m1\u001b[39m\n\u001b[1;32m    947\u001b[0m threshold_if_out \u001b[39m=\u001b[39m torch\u001b[39m.\u001b[39munsqueeze(torch\u001b[39m.\u001b[39mgather(\n\u001b[1;32m    948\u001b[0m     top_values_flat, \u001b[39m0\u001b[39m, threshold_positions_if_out), \u001b[39m1\u001b[39m)\n",
      "\u001b[0;31mRuntimeError\u001b[0m: The size of tensor a (40) must match the size of tensor b (10) at non-singleton dimension 2"
     ]
    }
   ],
   "source": [
    "b = model(a)"
   ]
  }
 ],
 "metadata": {
  "kernelspec": {
   "display_name": "Python 3",
   "language": "python",
   "name": "python3"
  },
  "language_info": {
   "codemirror_mode": {
    "name": "ipython",
    "version": 3
   },
   "file_extension": ".py",
   "mimetype": "text/x-python",
   "name": "python",
   "nbconvert_exporter": "python",
   "pygments_lexer": "ipython3",
   "version": "3.9.16"
  },
  "orig_nbformat": 4,
  "vscode": {
   "interpreter": {
    "hash": "e7370f93d1d0cde622a1f8e1c04877d8463912d04d973331ad4851f04de6915a"
   }
  }
 },
 "nbformat": 4,
 "nbformat_minor": 2
}
