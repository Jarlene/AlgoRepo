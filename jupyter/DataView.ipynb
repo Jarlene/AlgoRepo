{
 "cells": [
  {
   "cell_type": "code",
   "execution_count": 16,
   "metadata": {},
   "outputs": [],
   "source": [
    "import numpy as np\n",
    "import torch\n",
    "import torch.nn.functional as F"
   ]
  },
  {
   "cell_type": "code",
   "execution_count": 17,
   "metadata": {},
   "outputs": [],
   "source": [
    "data = torch.load('/home/jarlene/Code/Projects/Experiment/data/traj.pt')"
   ]
  },
  {
   "cell_type": "code",
   "execution_count": 18,
   "metadata": {},
   "outputs": [],
   "source": [
    "dd = data['ego'][0][0][2,].numpy()"
   ]
  },
  {
   "cell_type": "code",
   "execution_count": 27,
   "metadata": {},
   "outputs": [],
   "source": [
    "def as_matrix(arr):\n",
    "    return np.array([[np.cos(arr[2]), -np.sin(arr[2]), arr[0]],\n",
    "       [np.sin(arr[2]), np.cos(arr[2]),  arr[0]],\n",
    "       [0, 0, 1]])"
   ]
  },
  {
   "cell_type": "code",
   "execution_count": 28,
   "metadata": {},
   "outputs": [],
   "source": [
    "absolute_states = as_matrix(dd[:3])"
   ]
  },
  {
   "cell_type": "code",
   "execution_count": 29,
   "metadata": {},
   "outputs": [],
   "source": [
    "data_transform = np.linalg.inv(absolute_states)"
   ]
  },
  {
   "cell_type": "code",
   "execution_count": 36,
   "metadata": {},
   "outputs": [],
   "source": [
    "ddd = data['ego'][0][0][2:15,].numpy()"
   ]
  },
  {
   "cell_type": "code",
   "execution_count": 37,
   "metadata": {},
   "outputs": [],
   "source": [
    "sss = [as_matrix(d[:3]) for d in ddd]\n"
   ]
  },
  {
   "cell_type": "code",
   "execution_count": 38,
   "metadata": {},
   "outputs": [
    {
     "data": {
      "text/plain": [
       "array([[[ 1.00000000e+00, -3.94821578e-20,  0.00000000e+00],\n",
       "        [ 1.35655036e-20,  1.00000000e+00,  5.82076609e-11],\n",
       "        [ 0.00000000e+00,  0.00000000e+00,  1.00000000e+00]],\n",
       "\n",
       "       [[ 1.00000004e+00,  8.70240214e-06,  0.00000000e+00],\n",
       "        [-8.70240214e-06,  1.00000004e+00,  5.82076609e-11],\n",
       "        [ 0.00000000e+00,  0.00000000e+00,  1.00000000e+00]],\n",
       "\n",
       "       [[ 1.00000002e+00,  1.64509808e-05,  0.00000000e+00],\n",
       "        [-1.64509808e-05,  1.00000002e+00,  5.82076609e-11],\n",
       "        [ 0.00000000e+00,  0.00000000e+00,  1.00000000e+00]],\n",
       "\n",
       "       [[ 9.99999987e-01,  2.84910799e-05,  0.00000000e+00],\n",
       "        [-2.84910799e-05,  9.99999987e-01,  5.82076609e-11],\n",
       "        [ 0.00000000e+00,  0.00000000e+00,  1.00000000e+00]],\n",
       "\n",
       "       [[ 1.00000003e+00, -1.23977258e-05,  0.00000000e+00],\n",
       "        [ 1.23977258e-05,  1.00000003e+00,  5.82076609e-11],\n",
       "        [ 0.00000000e+00,  0.00000000e+00,  1.00000000e+00]],\n",
       "\n",
       "       [[ 1.00000004e+00,  6.55664190e-06,  0.00000000e+00],\n",
       "        [-6.55664190e-06,  1.00000004e+00,  5.82076609e-11],\n",
       "        [ 0.00000000e+00,  0.00000000e+00,  1.00000000e+00]],\n",
       "\n",
       "       [[ 1.00000002e+00,  1.45436384e-05,  0.00000000e+00],\n",
       "        [-1.45436384e-05,  1.00000002e+00,  5.82076609e-11],\n",
       "        [ 0.00000000e+00,  0.00000000e+00,  1.00000000e+00]],\n",
       "\n",
       "       [[ 1.00000002e+00,  1.69278164e-05,  0.00000000e+00],\n",
       "        [-1.69278164e-05,  1.00000002e+00,  5.82076609e-11],\n",
       "        [ 0.00000000e+00,  0.00000000e+00,  1.00000000e+00]],\n",
       "\n",
       "       [[ 9.99999991e-01,  2.67029464e-05,  0.00000000e+00],\n",
       "        [-2.67029464e-05,  9.99999991e-01,  5.82076609e-11],\n",
       "        [ 0.00000000e+00,  0.00000000e+00,  1.00000000e+00]],\n",
       "\n",
       "       [[ 9.99999989e-01,  4.17231158e-06,  0.00000000e+00],\n",
       "        [-4.17231158e-06,  9.99999989e-01,  5.82076609e-11],\n",
       "        [ 0.00000000e+00,  0.00000000e+00,  1.00000000e+00]],\n",
       "\n",
       "       [[ 9.99999992e-01,  2.64645286e-05,  0.00000000e+00],\n",
       "        [-2.64645286e-05,  9.99999992e-01,  5.82076609e-11],\n",
       "        [ 0.00000000e+00,  0.00000000e+00,  1.00000000e+00]],\n",
       "\n",
       "       [[ 1.00000000e+00,  2.28882615e-05,  0.00000000e+00],\n",
       "        [-2.28882615e-05,  1.00000000e+00,  5.82076609e-11],\n",
       "        [ 0.00000000e+00,  0.00000000e+00,  1.00000000e+00]],\n",
       "\n",
       "       [[ 1.00000004e+00, -1.40666505e-05,  0.00000000e+00],\n",
       "        [ 1.40666505e-05,  1.00000004e+00,  5.82076609e-11],\n",
       "        [ 0.00000000e+00,  0.00000000e+00,  1.00000000e+00]]])"
      ]
     },
     "execution_count": 38,
     "metadata": {},
     "output_type": "execute_result"
    }
   ],
   "source": [
    "data_transform @ sss"
   ]
  },
  {
   "cell_type": "code",
   "execution_count": null,
   "metadata": {},
   "outputs": [],
   "source": []
  }
 ],
 "metadata": {
  "kernelspec": {
   "display_name": "Python 3",
   "language": "python",
   "name": "python3"
  },
  "language_info": {
   "codemirror_mode": {
    "name": "ipython",
    "version": 3
   },
   "file_extension": ".py",
   "mimetype": "text/x-python",
   "name": "python",
   "nbconvert_exporter": "python",
   "pygments_lexer": "ipython3",
   "version": "3.9.16"
  },
  "orig_nbformat": 4,
  "vscode": {
   "interpreter": {
    "hash": "e7370f93d1d0cde622a1f8e1c04877d8463912d04d973331ad4851f04de6915a"
   }
  }
 },
 "nbformat": 4,
 "nbformat_minor": 2
}
