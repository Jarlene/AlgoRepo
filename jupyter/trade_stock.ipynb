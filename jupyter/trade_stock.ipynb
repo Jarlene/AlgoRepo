{
 "cells": [
  {
   "cell_type": "code",
   "execution_count": 2,
   "metadata": {},
   "outputs": [],
   "source": [
    "import pandas as pd\n",
    "import numpy as np\n",
    "import os\n",
    "import torch\n",
    "import matplotlib.pyplot as plt"
   ]
  },
  {
   "cell_type": "code",
   "execution_count": 1,
   "metadata": {},
   "outputs": [],
   "source": [
    "DIR = '/home/jarlene/Desktop/stock/csv'"
   ]
  },
  {
   "cell_type": "code",
   "execution_count": 6,
   "metadata": {},
   "outputs": [],
   "source": [
    "def rename(path):\n",
    "    names = ['open', 'high', 'low', 'close', 'adj.close', 'volume', 'dividends', 'stock.splits', 'capital.gains']\n",
    "    data = pd.read_csv(path)\n",
    "    cols = data.columns.to_list()\n",
    "    cols[0] = 'date'\n",
    "    colss =['date']\n",
    "    for c in cols[1:]:\n",
    "        ss = c.split('.')\n",
    "        if (len(ss) == 1) or (not ss[-1].isnumeric() and len(ss) > 1):\n",
    "            ss.append(\"0\")\n",
    "        ss[-1] = \"_\"+ names[int(ss[-1])]\n",
    "        colss.append('.'.join(ss[:-1]) + ss[-1])\n",
    "    data.columns = colss\n",
    "    data = data.drop([0,1])\n",
    "    data.to_csv(path, sep='\\t', index=False)\n",
    "\n",
    "    \n",
    "def preprocess(path, num_attris = 9):\n",
    "    data = pd.read_csv(path, sep='\\t')\n",
    "    trade_date_lenth = num_attris\n",
    "    cols_len = len(data.columns) - 1\n",
    "    trade_num = int(cols_len/trade_date_lenth)\n",
    "    all_cols = data.columns.to_list()\n",
    "    dataes = [data.iloc[:, 1+i*trade_date_lenth:trade_date_lenth *\n",
    "                        (i+1) + 1] for i in range(trade_num)]\n",
    "    cols = [all_cols[1+i*trade_date_lenth:trade_date_lenth *\n",
    "                        (i+1) + 1] for i in range(trade_num)]\n",
    "    for i in range(len(dataes)):\n",
    "        d = dataes[i]\n",
    "        d['date'] = data['date']\n",
    "        d.dropna(inplace=True)\n",
    "        d.columns = cols[i] +['date']\n",
    "        for col in cols[i][:5]:\n",
    "            d[col] = d[col].pct_change()\n",
    "        \n",
    "\n",
    "    res = [i.to_numpy() for i in dataes]\n",
    "    torch.save(res, path.replace('.csv', '.pt'))\n",
    "\n",
    "def merge(files, save_path):\n",
    "    res = []\n",
    "    for f in files:\n",
    "        data = torch.load(f)\n",
    "        res.extend(data)\n",
    "    \n",
    "    torch.save(res, save_path)"
   ]
  },
  {
   "cell_type": "code",
   "execution_count": 32,
   "metadata": {},
   "outputs": [],
   "source": [
    "for f in os.listdir(DIR):\n",
    "    f_path = os.path.join(DIR, f)\n",
    "    if f.endswith('.csv') and os.path.isfile(f_path):\n",
    "        preprocess(f_path)"
   ]
  },
  {
   "cell_type": "code",
   "execution_count": 3,
   "metadata": {},
   "outputs": [],
   "source": [
    "files = []\n",
    "for f in os.listdir(DIR):\n",
    "    f_path = os.path.join(DIR, f)\n",
    "    if f.endswith('.pt') and os.path.isfile(f_path):\n",
    "        files.append(f_path)"
   ]
  },
  {
   "cell_type": "code",
   "execution_count": 4,
   "metadata": {},
   "outputs": [
    {
     "data": {
      "text/plain": [
       "['/home/jarlene/Desktop/stock/csv/USMF_25000.pt',\n",
       " '/home/jarlene/Desktop/stock/csv/TSX.pt',\n",
       " '/home/jarlene/Desktop/stock/csv/USMF_15000.pt',\n",
       " '/home/jarlene/Desktop/stock/csv/USMF_20000.pt',\n",
       " '/home/jarlene/Desktop/stock/csv/OTCBB-004.pt',\n",
       " '/home/jarlene/Desktop/stock/csv/LSE.pt',\n",
       " '/home/jarlene/Desktop/stock/csv/SGX.pt',\n",
       " '/home/jarlene/Desktop/stock/csv/USMF_0.pt',\n",
       " '/home/jarlene/Desktop/stock/csv/MGEX.pt',\n",
       " '/home/jarlene/Desktop/stock/csv/CFE.pt',\n",
       " '/home/jarlene/Desktop/stock/csv/EUREX.pt',\n",
       " '/home/jarlene/Desktop/stock/csv/ASX.pt',\n",
       " '/home/jarlene/Desktop/stock/csv/NYBOT.pt',\n",
       " '/home/jarlene/Desktop/stock/csv/USMF_5000.pt',\n",
       " '/home/jarlene/Desktop/stock/csv/TSXV.pt',\n",
       " '/home/jarlene/Desktop/stock/csv/LIFFE.pt',\n",
       " '/home/jarlene/Desktop/stock/csv/USMF_10000.pt',\n",
       " '/home/jarlene/Desktop/stock/csv/AMEX.pt',\n",
       " '/home/jarlene/Desktop/stock/csv/FOREX.pt',\n",
       " '/home/jarlene/Desktop/stock/csv/NASDAQ.pt',\n",
       " '/home/jarlene/Desktop/stock/csv/INDEX.pt']"
      ]
     },
     "execution_count": 4,
     "metadata": {},
     "output_type": "execute_result"
    }
   ],
   "source": [
    "files"
   ]
  },
  {
   "cell_type": "code",
   "execution_count": 7,
   "metadata": {},
   "outputs": [
    {
     "ename": "",
     "evalue": "",
     "output_type": "error",
     "traceback": [
      "\u001b[1;31mCanceled future for execute_request message before replies were done"
     ]
    },
    {
     "ename": "",
     "evalue": "",
     "output_type": "error",
     "traceback": [
      "\u001b[1;31m在当前单元格或上一个单元格中执行代码时 Kernel 崩溃。请查看单元格中的代码，以确定故障的可能原因。有关详细信息，请单击 <a href='https://aka.ms/vscodeJupyterKernelCrash'>此处</a>。有关更多详细信息，请查看 Jupyter <a href='command:jupyter.viewOutput'>log</a>。"
     ]
    }
   ],
   "source": [
    "merge(files, os.path.join(DIR,'res.pt'))"
   ]
  }
 ],
 "metadata": {
  "kernelspec": {
   "display_name": "Python 3",
   "language": "python",
   "name": "python3"
  },
  "language_info": {
   "codemirror_mode": {
    "name": "ipython",
    "version": 3
   },
   "file_extension": ".py",
   "mimetype": "text/x-python",
   "name": "python",
   "nbconvert_exporter": "python",
   "pygments_lexer": "ipython3",
   "version": "3.9.16"
  },
  "orig_nbformat": 4
 },
 "nbformat": 4,
 "nbformat_minor": 2
}
