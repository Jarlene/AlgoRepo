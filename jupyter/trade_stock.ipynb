{
 "cells": [
  {
   "cell_type": "code",
   "execution_count": 1,
   "metadata": {},
   "outputs": [],
   "source": [
    "import yfinance as yf\n",
    "import pandas as pd\n",
    "import numpy as np\n",
    "import os"
   ]
  },
  {
   "cell_type": "code",
   "execution_count": 2,
   "metadata": {},
   "outputs": [],
   "source": [
    "file = '/home/jarlene/Desktop/stock/AMEX.txt'"
   ]
  },
  {
   "cell_type": "code",
   "execution_count": 3,
   "metadata": {},
   "outputs": [],
   "source": [
    "data = pd.read_csv(file, sep='\\t')"
   ]
  },
  {
   "cell_type": "code",
   "execution_count": 4,
   "metadata": {},
   "outputs": [
    {
     "data": {
      "text/html": [
       "<div>\n",
       "<style scoped>\n",
       "    .dataframe tbody tr th:only-of-type {\n",
       "        vertical-align: middle;\n",
       "    }\n",
       "\n",
       "    .dataframe tbody tr th {\n",
       "        vertical-align: top;\n",
       "    }\n",
       "\n",
       "    .dataframe thead th {\n",
       "        text-align: right;\n",
       "    }\n",
       "</style>\n",
       "<table border=\"1\" class=\"dataframe\">\n",
       "  <thead>\n",
       "    <tr style=\"text-align: right;\">\n",
       "      <th></th>\n",
       "      <th>Symbol</th>\n",
       "      <th>Description</th>\n",
       "    </tr>\n",
       "  </thead>\n",
       "  <tbody>\n",
       "    <tr>\n",
       "      <th>0</th>\n",
       "      <td>AAA</td>\n",
       "      <td>First Priority Clo Bond ETF</td>\n",
       "    </tr>\n",
       "    <tr>\n",
       "      <th>1</th>\n",
       "      <td>AAAU</td>\n",
       "      <td>GS Physical Gold ETF</td>\n",
       "    </tr>\n",
       "    <tr>\n",
       "      <th>2</th>\n",
       "      <td>AAMC</td>\n",
       "      <td>Altisource Asset Management Corp Com</td>\n",
       "    </tr>\n",
       "    <tr>\n",
       "      <th>3</th>\n",
       "      <td>AAU</td>\n",
       "      <td>Almaden Minerals</td>\n",
       "    </tr>\n",
       "    <tr>\n",
       "      <th>4</th>\n",
       "      <td>ABEQ</td>\n",
       "      <td>Absolute Core Strategy ETF</td>\n",
       "    </tr>\n",
       "    <tr>\n",
       "      <th>...</th>\n",
       "      <td>...</td>\n",
       "      <td>...</td>\n",
       "    </tr>\n",
       "    <tr>\n",
       "      <th>2961</th>\n",
       "      <td>ZOM</td>\n",
       "      <td>Zomedica Pharmaceuticals Corp</td>\n",
       "    </tr>\n",
       "    <tr>\n",
       "      <th>2962</th>\n",
       "      <td>ZROZ</td>\n",
       "      <td>25+ Year Zero Cpn U.S. Trsy Idx ETF Pimco</td>\n",
       "    </tr>\n",
       "    <tr>\n",
       "      <th>2963</th>\n",
       "      <td>ZSB</td>\n",
       "      <td>Uscf Sustainable Battery Metals Strategy Fund</td>\n",
       "    </tr>\n",
       "    <tr>\n",
       "      <th>2964</th>\n",
       "      <td>ZSL</td>\n",
       "      <td>Ultrashort Silver -2X ETF</td>\n",
       "    </tr>\n",
       "    <tr>\n",
       "      <th>2965</th>\n",
       "      <td>ZSPY</td>\n",
       "      <td>Asymmetric Smart Alpha S&amp;P 500 ETF</td>\n",
       "    </tr>\n",
       "  </tbody>\n",
       "</table>\n",
       "<p>2966 rows × 2 columns</p>\n",
       "</div>"
      ],
      "text/plain": [
       "     Symbol                                    Description\n",
       "0       AAA                    First Priority Clo Bond ETF\n",
       "1      AAAU                           GS Physical Gold ETF\n",
       "2      AAMC           Altisource Asset Management Corp Com\n",
       "3       AAU                               Almaden Minerals\n",
       "4      ABEQ                     Absolute Core Strategy ETF\n",
       "...     ...                                            ...\n",
       "2961    ZOM                  Zomedica Pharmaceuticals Corp\n",
       "2962   ZROZ      25+ Year Zero Cpn U.S. Trsy Idx ETF Pimco\n",
       "2963    ZSB  Uscf Sustainable Battery Metals Strategy Fund\n",
       "2964    ZSL                      Ultrashort Silver -2X ETF\n",
       "2965   ZSPY             Asymmetric Smart Alpha S&P 500 ETF\n",
       "\n",
       "[2966 rows x 2 columns]"
      ]
     },
     "execution_count": 4,
     "metadata": {},
     "output_type": "execute_result"
    }
   ],
   "source": [
    "data"
   ]
  },
  {
   "cell_type": "code",
   "execution_count": 4,
   "metadata": {},
   "outputs": [],
   "source": [
    "def preprocess(path, threadhold=90, max_len=60):\n",
    "    data = pd.read_csv(path, sep='\\t')\n",
    "    trade_date_lenth = 6\n",
    "    cols_len = len(data.columns) - 1\n",
    "    trade_num = int(cols_len/trade_date_lenth)\n",
    "    dataes = [data.iloc[:, 1+i*trade_date_lenth:trade_date_lenth *\n",
    "                        (i+1) + 1] for i in range(trade_num)]\n",
    "    for d in dataes:\n",
    "        d['date'] = data['date']\n",
    "        d.columns = ['open', 'high', 'low',\n",
    "                     'close', 'adj.close', 'volume', 'date']\n",
    "\n",
    "    val_datas = []\n",
    "    for d in dataes:\n",
    "        d = d.dropna(subset=['open'])\n",
    "        if len(d) >= threadhold:\n",
    "            val_datas.append(d)\n",
    "\n",
    "    datas = []\n",
    "    for d in val_datas:\n",
    "        d = d.drop(['date'], axis=1)\n",
    "        idx = np.random.randint(0, len(d) - max_len - 1, (1,)).item()\n",
    "        datas.extend([d.loc[i:i+max_len+1,] for i in range(idx)])\n",
    "\n",
    "    res = [i.to_numpy() for i in datas]\n",
    "    res = np.array(res)\n",
    "    np.save(path.replace('.csv', ''), res)"
   ]
  },
  {
   "cell_type": "code",
   "execution_count": 3,
   "metadata": {},
   "outputs": [],
   "source": [
    "file = '../data/stock/NASDAQ.csv'"
   ]
  },
  {
   "cell_type": "code",
   "execution_count": 5,
   "metadata": {},
   "outputs": [],
   "source": [
    "preprocess(file)"
   ]
  }
 ],
 "metadata": {
  "kernelspec": {
   "display_name": "Python 3",
   "language": "python",
   "name": "python3"
  },
  "language_info": {
   "codemirror_mode": {
    "name": "ipython",
    "version": 3
   },
   "file_extension": ".py",
   "mimetype": "text/x-python",
   "name": "python",
   "nbconvert_exporter": "python",
   "pygments_lexer": "ipython3",
   "version": "3.8.10"
  },
  "orig_nbformat": 4
 },
 "nbformat": 4,
 "nbformat_minor": 2
}
